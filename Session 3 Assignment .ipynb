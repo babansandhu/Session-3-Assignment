{
 "cells": [
  {
   "cell_type": "code",
   "execution_count": 32,
   "metadata": {},
   "outputs": [
    {
     "name": "stdout",
     "output_type": "stream",
     "text": [
      "113\n"
     ]
    }
   ],
   "source": [
    "import numpy as np\n",
    "\n",
    "def myreduce(lst):\n",
    "    y=0\n",
    "    for i in np.arange(len(lst)):\n",
    "        y+=lst[i]\n",
    "    return y\n",
    "list = myreduce([47,11,42,13])\n",
    "print (list)"
   ]
  },
  {
   "cell_type": "code",
   "execution_count": 33,
   "metadata": {},
   "outputs": [
    {
     "name": "stdout",
     "output_type": "stream",
     "text": [
      "2,4,6\n"
     ]
    }
   ],
   "source": [
    "import numpy as np\n",
    "\n",
    "def myfilter(lst):\n",
    "    y=''\n",
    "    for i in np.arange(len(lst)):\n",
    "        if lst[i]%2==0:\n",
    "            y=y+','+str(lst[i])\n",
    "    return y\n",
    "\n",
    "result = myfilter([2,4,5,6])\n",
    "print (result[1:len(result)])\n",
    "    \n"
   ]
  },
  {
   "cell_type": "code",
   "execution_count": 2,
   "metadata": {},
   "outputs": [
    {
     "name": "stdout",
     "output_type": "stream",
     "text": [
      "['A', 'C', 'A', 'D', 'G', 'L', 'I', 'D']\n"
     ]
    }
   ],
   "source": [
    "x=list(map(lambda x:x,'ACADGLID'))\n",
    "print(x)"
   ]
  },
  {
   "cell_type": "code",
   "execution_count": 3,
   "metadata": {},
   "outputs": [
    {
     "name": "stdout",
     "output_type": "stream",
     "text": [
      "['x', 'xx', 'xxx', 'xxxx', 'y', 'yy', 'yyy', 'yyyy', 'z', 'zz', 'zzz', 'zzzz']\n"
     ]
    }
   ],
   "source": [
    "string=['x','y','z']\n",
    "result=[item*num for item in string for num in range(1,5)]\n",
    "print(str(result))"
   ]
  },
  {
   "cell_type": "code",
   "execution_count": 4,
   "metadata": {},
   "outputs": [
    {
     "name": "stdout",
     "output_type": "stream",
     "text": [
      "['x', 'y', 'z', 'xx', 'yy', 'zz', 'xxx', 'yyy', 'zzz', 'xxxx', 'yyyy', 'zzzz']\n"
     ]
    }
   ],
   "source": [
    "string=['x','y','z']\n",
    "result=[item*num for num in range (1,5) for item in string ]\n",
    "print(str(result))"
   ]
  },
  {
   "cell_type": "code",
   "execution_count": 5,
   "metadata": {},
   "outputs": [
    {
     "name": "stdout",
     "output_type": "stream",
     "text": [
      "[[2], [3], [4], [3], [4], [5], [4], [5], [6]]\n"
     ]
    }
   ],
   "source": [
    "string=[2,3,4]\n",
    "result=[[item+num] for item in string for num in range(0,3) ]\n",
    "print(str(result))"
   ]
  },
  {
   "cell_type": "code",
   "execution_count": 6,
   "metadata": {},
   "outputs": [
    {
     "name": "stdout",
     "output_type": "stream",
     "text": [
      "[[2, 3, 4, 5], [3, 4, 5, 6], [4, 5, 6, 7], [5, 6, 7, 8]]\n"
     ]
    }
   ],
   "source": [
    "string=[2,3,4,5]\n",
    "result=[[item+num for item in string] for num in range(0,4) ]\n",
    "print(str(result))"
   ]
  },
  {
   "cell_type": "code",
   "execution_count": 7,
   "metadata": {},
   "outputs": [
    {
     "name": "stdout",
     "output_type": "stream",
     "text": [
      "[(1, 1), (2, 1), (3, 1), (1, 2), (2, 2), (3, 2), (1, 3), (2, 3), (3, 3)]\n"
     ]
    }
   ],
   "source": [
    "string=[1,2,3]\n",
    "result=[(b,a)for a in string for b in string]\n",
    "print(str(result))"
   ]
  },
  {
   "cell_type": "code",
   "execution_count": 15,
   "metadata": {},
   "outputs": [
    {
     "name": "stdout",
     "output_type": "stream",
     "text": [
      "Please enter a few words: hempreet kaur sandhu\n",
      "hempreet\n"
     ]
    }
   ],
   "source": [
    "def find_longest_word(word_list):\n",
    "    longest_word = ''\n",
    "    for word in word_list:\n",
    "        if len(word) > len(longest_word):\n",
    "            longest_word = word\n",
    "    print (longest_word)\n",
    "words = input('Please enter a few words: ')  \n",
    "word_list = words.split()  \n",
    "find_longest_word(word_list)  "
   ]
  },
  {
   "cell_type": "code",
   "execution_count": null,
   "metadata": {},
   "outputs": [],
   "source": []
  }
 ],
 "metadata": {
  "kernelspec": {
   "display_name": "Python 3",
   "language": "python",
   "name": "python3"
  },
  "language_info": {
   "codemirror_mode": {
    "name": "ipython",
    "version": 3
   },
   "file_extension": ".py",
   "mimetype": "text/x-python",
   "name": "python",
   "nbconvert_exporter": "python",
   "pygments_lexer": "ipython3",
   "version": "3.6.5"
  }
 },
 "nbformat": 4,
 "nbformat_minor": 2
}
